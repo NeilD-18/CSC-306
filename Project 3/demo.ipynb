{
 "cells": [
  {
   "cell_type": "markdown",
   "metadata": {},
   "source": [
    "# Quick demo of the starter code"
   ]
  },
  {
   "cell_type": "code",
   "execution_count": 1,
   "metadata": {},
   "outputs": [],
   "source": [
    "# Executing this cell does some magic.\n",
    "%load_ext autoreload\n",
    "%autoreload 2"
   ]
  },
  {
   "cell_type": "code",
   "execution_count": null,
   "metadata": {},
   "outputs": [],
   "source": [
    "import argubots\n",
    "you_alice = argubots.alice.converse()"
   ]
  },
  {
   "cell_type": "code",
   "execution_count": null,
   "metadata": {},
   "outputs": [],
   "source": [
    "import agents\n",
    "import simulate\n",
    "import rich\n",
    "alice_bob = simulate.simulated_dialogue(argubots.alice, agents.bob, 6)\n",
    "rich.print(alice_bob)"
   ]
  },
  {
   "cell_type": "code",
   "execution_count": null,
   "metadata": {},
   "outputs": [],
   "source": [
    "from logging_cm import LoggingContext\n",
    "\n",
    "# Have Alice talk to Bob and spy on the back-end messages to/from the LLM server.\n",
    "# temporarily increase logging level (use \"DEBUG\" for even more detail)\n",
    "with LoggingContext(\"agents\", \"INFO\"):\n",
    "    alice_bob = simulate.simulated_dialogue(argubots.alice, agents.bob, 6)\n",
    "\n",
    "rich.print(alice_bob)"
   ]
  },
  {
   "cell_type": "code",
   "execution_count": null,
   "metadata": {},
   "outputs": [],
   "source": [
    "import characters\n",
    "from agents import EvaluationAgent\n",
    "import evaluate\n",
    "\n",
    "rich.print(evaluate.eval_by_participant(characters.bob, \"Alice\", alice_bob))"
   ]
  },
  {
   "cell_type": "code",
   "execution_count": null,
   "metadata": {},
   "outputs": [],
   "source": [
    "rich.print(evaluate.eval_by_observer(evaluate.default_judge, \"Alice\", alice_bob))"
   ]
  },
  {
   "cell_type": "code",
   "execution_count": null,
   "metadata": {},
   "outputs": [],
   "source": [
    "# try that again, but this time watch what's going on under the hood during eval\n",
    "with LoggingContext(\"agents\", \"INFO\"):\n",
    "    e1 = evaluate.eval_by_participant(characters.bob, \"Alice\", alice_bob)\n",
    "    e2 = evaluate.eval_by_observer(evaluate.default_judge, \"Alice\", alice_bob)"
   ]
  },
  {
   "cell_type": "code",
   "execution_count": null,
   "metadata": {},
   "outputs": [],
   "source": [
    "rich.print(\"Eval by participant:\\n\", e1)\n",
    "rich.print(\"Eval by observer:\\n\", e2)\n",
    "\n",
    "# The next line illusrates addition of evaluations.  However, notice that it\n",
    "# mistakenly prints that there are two dialogues involved.  To compute an\n",
    "# overall evaluation of a single dialogue, it's better to use the\n",
    "# `eval_dialogue` method, which calls both methods above and combines the\n",
    "# results properly.\n",
    "rich.print(\"Total eval:\\n\", e1 + e2)   # will mistakenly print that there are 2 dialogues in this sum"
   ]
  },
  {
   "cell_type": "code",
   "execution_count": null,
   "metadata": {},
   "outputs": [],
   "source": [
    "(e1+e2).mean()   # show just the numeric part"
   ]
  },
  {
   "cell_type": "code",
   "execution_count": null,
   "metadata": {},
   "outputs": [],
   "source": [
    "from tracking import read_usage\n",
    "read_usage()"
   ]
  },
  {
   "cell_type": "code",
   "execution_count": null,
   "metadata": {},
   "outputs": [],
   "source": [
    "f\"You have spent a total of ${read_usage()['cost']:.2f} of NLP money so far\""
   ]
  },
  {
   "cell_type": "code",
   "execution_count": null,
   "metadata": {},
   "outputs": [],
   "source": [
    "# makes evaluate.py show the simulated dialogues and results of evaluation\n",
    "with LoggingContext(\"eval\", \"INFO\"):\n",
    "    # evaluate on all defined characters\n",
    "    alice_eval = evaluate.eval_on_characters(argubots.alice)"
   ]
  },
  {
   "cell_type": "code",
   "execution_count": null,
   "metadata": {},
   "outputs": [],
   "source": [
    "rich.print(alice_eval)"
   ]
  },
  {
   "cell_type": "code",
   "execution_count": null,
   "metadata": {},
   "outputs": [],
   "source": [
    "# Although we didn't use the logger to view the dialogues\n",
    "# and evaluations as they were generated, they're saved ...\n",
    "from evaluate import saved_evalsum, saved_dialogues\n",
    "\n",
    "rich.print(saved_evalsum['Alice'].mean())   # means\n",
    "rich.print(saved_evalsum['Alice'].sd())     # standard deviations\n",
    "rich.print(saved_dialogues['Alice'][2])     # one of the actual dialogues and its eval"
   ]
  }
 ],
 "metadata": {
  "kernelspec": {
   "display_name": "Python 3",
   "language": "python",
   "name": "python3"
  },
  "language_info": {
   "codemirror_mode": {
    "name": "ipython",
    "version": 3
   },
   "file_extension": ".py",
   "mimetype": "text/x-python",
   "name": "python",
   "nbconvert_exporter": "python",
   "pygments_lexer": "ipython3",
   "version": "3.10.12"
  }
 },
 "nbformat": 4,
 "nbformat_minor": 2
}
